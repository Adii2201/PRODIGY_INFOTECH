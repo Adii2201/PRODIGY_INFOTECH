{
  "cells": [
    {
      "cell_type": "code",
      "execution_count": 10,
      "metadata": {
        "colab": {
          "base_uri": "https://localhost:8080/"
        },
        "id": "-7761-VeDHYB",
        "outputId": "fc7e5533-fc3b-4ee3-c2d2-a9f14395c067"
      },
      "outputs": [
        {
          "name": "stdout",
          "output_type": "stream",
          "text": [
            "Requirement already satisfied: kagglehub in /usr/local/lib/python3.11/dist-packages (0.3.6)\n",
            "Requirement already satisfied: packaging in /usr/local/lib/python3.11/dist-packages (from kagglehub) (24.2)\n",
            "Requirement already satisfied: requests in /usr/local/lib/python3.11/dist-packages (from kagglehub) (2.32.3)\n",
            "Requirement already satisfied: tqdm in /usr/local/lib/python3.11/dist-packages (from kagglehub) (4.67.1)\n",
            "Requirement already satisfied: charset-normalizer<4,>=2 in /usr/local/lib/python3.11/dist-packages (from requests->kagglehub) (3.4.1)\n",
            "Requirement already satisfied: idna<4,>=2.5 in /usr/local/lib/python3.11/dist-packages (from requests->kagglehub) (3.10)\n",
            "Requirement already satisfied: urllib3<3,>=1.21.1 in /usr/local/lib/python3.11/dist-packages (from requests->kagglehub) (2.3.0)\n",
            "Requirement already satisfied: certifi>=2017.4.17 in /usr/local/lib/python3.11/dist-packages (from requests->kagglehub) (2024.12.14)\n",
            "Path to dataset files: /root/.cache/kagglehub/datasets/gti-upm/leapgestrecog/versions/1\n"
          ]
        }
      ],
      "source": [
        "!pip install kagglehub\n",
        "\n",
        "import kagglehub\n",
        "\n",
        "path = kagglehub.dataset_download(\"gti-upm/leapgestrecog\")\n",
        "\n",
        "print(\"Path to dataset files:\", path)\n"
      ]
    },
    {
      "cell_type": "code",
      "execution_count": 11,
      "metadata": {
        "colab": {
          "base_uri": "https://localhost:8080/"
        },
        "id": "-GTh9p12D7NS",
        "outputId": "97508db7-81cd-418e-ba05-5a204e0f7926"
      },
      "outputs": [
        {
          "name": "stdout",
          "output_type": "stream",
          "text": [
            "Number of gestures: 10\n",
            "Gesture categories: ['09', '06', '01', '00', '03']\n"
          ]
        }
      ],
      "source": [
        "dataset_path = '/root/.cache/kagglehub/datasets/gti-upm/leapgestrecog/versions/1/leapGestRecog'\n",
        "\n",
        "import os\n",
        "gesture_folders = os.listdir(dataset_path)\n",
        "print(\"Number of gestures:\", len(gesture_folders))\n",
        "print(\"Gesture categories:\", gesture_folders[:5])\n"
      ]
    },
    {
      "cell_type": "code",
      "execution_count": 14,
      "metadata": {
        "colab": {
          "base_uri": "https://localhost:8080/"
        },
        "id": "KG6qCKfZFYxB",
        "outputId": "34c5b894-e002-45af-8e18-0ddcd77ec35a"
      },
      "outputs": [
        {
          "name": "stdout",
          "output_type": "stream",
          "text": [
            "Corrupted images removed.\n"
          ]
        }
      ],
      "source": [
        "from PIL import Image\n",
        "import os\n",
        "\n",
        "def remove_corrupted_images(dataset_path):\n",
        "    gesture_folders = os.listdir(dataset_path)\n",
        "    for folder in gesture_folders:\n",
        "        folder_path = os.path.join(dataset_path, folder)\n",
        "        for file_name in os.listdir(folder_path):\n",
        "            file_path = os.path.join(folder_path, file_name)\n",
        "            if os.path.isfile(file_path):\n",
        "                try:\n",
        "                    img = Image.open(file_path)  \n",
        "                    img.verify()  \n",
        "                except (IOError, SyntaxError) as e:\n",
        "                    print(f\"Removing corrupted file: {file_path}\")\n",
        "                    os.remove(file_path)\n",
        "\n",
        "remove_corrupted_images(dataset_path)\n",
        "print(\"Corrupted images removed.\")\n"
      ]
    },
    {
      "cell_type": "code",
      "execution_count": 17,
      "metadata": {
        "colab": {
          "base_uri": "https://localhost:8080/"
        },
        "id": "cQ6RXm_cJCoZ",
        "outputId": "88bbb97f-c463-4f1c-f100-77ebea139c3f"
      },
      "outputs": [
        {
          "name": "stdout",
          "output_type": "stream",
          "text": [
            "No images found in folder 09, skipping.\n",
            "No images found in folder 06, skipping.\n",
            "No images found in folder 01, skipping.\n",
            "No images found in folder 00, skipping.\n",
            "No images found in folder 03, skipping.\n",
            "No images found in folder 02, skipping.\n",
            "No images found in folder 04, skipping.\n",
            "No images found in folder 05, skipping.\n",
            "No images found in folder 08, skipping.\n",
            "No images found in folder 07, skipping.\n",
            "Data organized into train and test sets.\n"
          ]
        }
      ],
      "source": [
        "import shutil\n",
        "from sklearn.model_selection import train_test_split\n",
        "import os\n",
        "\n",
        "def organize_data(dataset_path, output_dir, test_size=0.2):\n",
        "    if not os.path.exists(output_dir):\n",
        "        os.makedirs(output_dir)\n",
        "\n",
        "    train_dir = os.path.join(output_dir, 'train')\n",
        "    test_dir = os.path.join(output_dir, 'test')\n",
        "    os.makedirs(train_dir, exist_ok=True)\n",
        "    os.makedirs(test_dir, exist_ok=True)\n",
        "\n",
        "    gesture_folders = os.listdir(dataset_path)\n",
        "    for folder in gesture_folders:\n",
        "        folder_path = os.path.join(dataset_path, folder)\n",
        "        if not os.path.isdir(folder_path):  \n",
        "            continue\n",
        "\n",
        "        images = os.listdir(folder_path)\n",
        "\n",
        "        images = [image for image in images if os.path.isfile(os.path.join(folder_path, image))]\n",
        "\n",
        "        if len(images) == 0:  \n",
        "            print(f\"No images found in folder {folder}, skipping.\")\n",
        "            continue\n",
        "\n",
        "        train_images, test_images = train_test_split(images, test_size=test_size, random_state=42)\n",
        "\n",
        "        os.makedirs(os.path.join(train_dir, folder), exist_ok=True)\n",
        "        os.makedirs(os.path.join(test_dir, folder), exist_ok=True)\n",
        "\n",
        "        for image in train_images:\n",
        "            shutil.copy(os.path.join(folder_path, image), os.path.join(train_dir, folder, image))\n",
        "        for image in test_images:\n",
        "            shutil.copy(os.path.join(folder_path, image), os.path.join(test_dir, folder, image))\n",
        "\n",
        "    print(\"Data organized into train and test sets.\")\n",
        "\n",
        "output_dir = '/root/.cache/kagglehub/datasets/gti-upm/leapgestrecog/split'\n",
        "organize_data(dataset_path, output_dir)\n"
      ]
    },
    {
      "cell_type": "code",
      "execution_count": 18,
      "metadata": {
        "colab": {
          "base_uri": "https://localhost:8080/"
        },
        "id": "adEQXrrPJWXp",
        "outputId": "a3d3f855-fa88-4d60-89d8-9b7a6b30de16"
      },
      "outputs": [
        {
          "name": "stdout",
          "output_type": "stream",
          "text": [
            "Contents of folder 09: ['07_ok', '01_palm', '06_index', '08_palm_moved', '03_fist', '02_l', '09_c', '10_down', '04_fist_moved', '05_thumb']\n",
            "No valid images found in folder 09, skipping.\n",
            "Contents of folder 06: ['07_ok', '01_palm', '06_index', '08_palm_moved', '03_fist', '02_l', '09_c', '10_down', '04_fist_moved', '05_thumb']\n",
            "No valid images found in folder 06, skipping.\n",
            "Contents of folder 01: ['07_ok', '01_palm', '06_index', '08_palm_moved', '03_fist', '02_l', '09_c', '10_down', '04_fist_moved', '05_thumb']\n",
            "No valid images found in folder 01, skipping.\n",
            "Contents of folder 00: ['07_ok', '01_palm', '06_index', '08_palm_moved', '03_fist', '02_l', '09_c', '10_down', '04_fist_moved', '05_thumb']\n",
            "No valid images found in folder 00, skipping.\n",
            "Contents of folder 03: ['07_ok', '01_palm', '06_index', '08_palm_moved', '03_fist', '02_l', '09_c', '10_down', '04_fist_moved', '05_thumb']\n",
            "No valid images found in folder 03, skipping.\n",
            "Contents of folder 02: ['07_ok', '01_palm', '06_index', '08_palm_moved', '03_fist', '02_l', '09_c', '10_down', '04_fist_moved', '05_thumb']\n",
            "No valid images found in folder 02, skipping.\n",
            "Contents of folder 04: ['07_ok', '01_palm', '06_index', '08_palm_moved', '03_fist', '02_l', '09_c', '10_down', '04_fist_moved', '05_thumb']\n",
            "No valid images found in folder 04, skipping.\n",
            "Contents of folder 05: ['07_ok', '01_palm', '06_index', '08_palm_moved', '03_fist', '02_l', '09_c', '10_down', '04_fist_moved', '05_thumb']\n",
            "No valid images found in folder 05, skipping.\n",
            "Contents of folder 08: ['07_ok', '01_palm', '06_index', '08_palm_moved', '03_fist', '02_l', '09_c', '10_down', '04_fist_moved', '05_thumb']\n",
            "No valid images found in folder 08, skipping.\n",
            "Contents of folder 07: ['07_ok', '01_palm', '06_index', '08_palm_moved', '03_fist', '02_l', '09_c', '10_down', '04_fist_moved', '05_thumb']\n",
            "No valid images found in folder 07, skipping.\n",
            "Data organized into train and test sets.\n"
          ]
        }
      ],
      "source": [
        "import shutil\n",
        "from sklearn.model_selection import train_test_split\n",
        "import os\n",
        "\n",
        "def organize_data(dataset_path, output_dir, test_size=0.2):\n",
        "    if not os.path.exists(output_dir):\n",
        "        os.makedirs(output_dir)\n",
        "\n",
        "    train_dir = os.path.join(output_dir, 'train')\n",
        "    test_dir = os.path.join(output_dir, 'test')\n",
        "    os.makedirs(train_dir, exist_ok=True)\n",
        "    os.makedirs(test_dir, exist_ok=True)\n",
        "\n",
        "    gesture_folders = os.listdir(dataset_path)\n",
        "\n",
        "    image_extensions = ['.jpg', '.jpeg', '.png', '.bmp', '.gif']\n",
        "\n",
        "    for folder in gesture_folders:\n",
        "        folder_path = os.path.join(dataset_path, folder)\n",
        "        if not os.path.isdir(folder_path): \n",
        "            continue\n",
        "\n",
        "        print(f\"Contents of folder {folder}: {os.listdir(folder_path)}\")\n",
        "\n",
        "        images = [image for image in os.listdir(folder_path)\n",
        "                  if os.path.isfile(os.path.join(folder_path, image)) and any(image.lower().endswith(ext) for ext in image_extensions)]\n",
        "\n",
        "        if len(images) == 0:  \n",
        "            print(f\"No valid images found in folder {folder}, skipping.\")\n",
        "            continue\n",
        "\n",
        "        train_images, test_images = train_test_split(images, test_size=test_size, random_state=42)\n",
        "\n",
        "        os.makedirs(os.path.join(train_dir, folder), exist_ok=True)\n",
        "        os.makedirs(os.path.join(test_dir, folder), exist_ok=True)\n",
        "\n",
        "        for image in train_images:\n",
        "            shutil.copy(os.path.join(folder_path, image), os.path.join(train_dir, folder, image))\n",
        "        for image in test_images:\n",
        "            shutil.copy(os.path.join(folder_path, image), os.path.join(test_dir, folder, image))\n",
        "\n",
        "    print(\"Data organized into train and test sets.\")\n",
        "\n",
        "output_dir = '/root/.cache/kagglehub/datasets/gti-upm/leapgestrecog/split'\n",
        "organize_data(dataset_path, output_dir)\n"
      ]
    },
    {
      "cell_type": "code",
      "execution_count": 19,
      "metadata": {
        "colab": {
          "base_uri": "https://localhost:8080/"
        },
        "id": "MjhDNsoMJdpP",
        "outputId": "309400cf-ca9f-4ebc-caad-9da7dc971d17"
      },
      "outputs": [
        {
          "name": "stdout",
          "output_type": "stream",
          "text": [
            "Contents of folder 09: ['07_ok', '01_palm', '06_index', '08_palm_moved', '03_fist', '02_l', '09_c', '10_down', '04_fist_moved', '05_thumb']\n",
            "Contents of folder 06: ['07_ok', '01_palm', '06_index', '08_palm_moved', '03_fist', '02_l', '09_c', '10_down', '04_fist_moved', '05_thumb']\n",
            "Contents of folder 01: ['07_ok', '01_palm', '06_index', '08_palm_moved', '03_fist', '02_l', '09_c', '10_down', '04_fist_moved', '05_thumb']\n",
            "Contents of folder 00: ['07_ok', '01_palm', '06_index', '08_palm_moved', '03_fist', '02_l', '09_c', '10_down', '04_fist_moved', '05_thumb']\n",
            "Contents of folder 03: ['07_ok', '01_palm', '06_index', '08_palm_moved', '03_fist', '02_l', '09_c', '10_down', '04_fist_moved', '05_thumb']\n",
            "Contents of folder 02: ['07_ok', '01_palm', '06_index', '08_palm_moved', '03_fist', '02_l', '09_c', '10_down', '04_fist_moved', '05_thumb']\n",
            "Contents of folder 04: ['07_ok', '01_palm', '06_index', '08_palm_moved', '03_fist', '02_l', '09_c', '10_down', '04_fist_moved', '05_thumb']\n",
            "Contents of folder 05: ['07_ok', '01_palm', '06_index', '08_palm_moved', '03_fist', '02_l', '09_c', '10_down', '04_fist_moved', '05_thumb']\n",
            "Contents of folder 08: ['07_ok', '01_palm', '06_index', '08_palm_moved', '03_fist', '02_l', '09_c', '10_down', '04_fist_moved', '05_thumb']\n",
            "Contents of folder 07: ['07_ok', '01_palm', '06_index', '08_palm_moved', '03_fist', '02_l', '09_c', '10_down', '04_fist_moved', '05_thumb']\n",
            "Data organized into train and test sets.\n"
          ]
        }
      ],
      "source": [
        "import shutil\n",
        "from sklearn.model_selection import train_test_split\n",
        "import os\n",
        "\n",
        "def organize_data(dataset_path, output_dir, test_size=0.2):\n",
        "    if not os.path.exists(output_dir):\n",
        "        os.makedirs(output_dir)\n",
        "\n",
        "    train_dir = os.path.join(output_dir, 'train')\n",
        "    test_dir = os.path.join(output_dir, 'test')\n",
        "    os.makedirs(train_dir, exist_ok=True)\n",
        "    os.makedirs(test_dir, exist_ok=True)\n",
        "\n",
        "    gesture_folders = os.listdir(dataset_path)\n",
        "\n",
        "    image_extensions = ['.jpg', '.jpeg', '.png', '.bmp', '.gif']\n",
        "\n",
        "    for folder in gesture_folders:\n",
        "        folder_path = os.path.join(dataset_path, folder)\n",
        "        if not os.path.isdir(folder_path):  \n",
        "            continue\n",
        "\n",
        "        subfolders = os.listdir(folder_path)\n",
        "        print(f\"Contents of folder {folder}: {subfolders}\")\n",
        "\n",
        "        images = []\n",
        "        for subfolder in subfolders:\n",
        "            subfolder_path = os.path.join(folder_path, subfolder)\n",
        "            if os.path.isdir(subfolder_path):\n",
        "                images += [os.path.join(subfolder_path, image)\n",
        "                            for image in os.listdir(subfolder_path)\n",
        "                            if os.path.isfile(os.path.join(subfolder_path, image)) and\n",
        "                            any(image.lower().endswith(ext) for ext in image_extensions)]\n",
        "\n",
        "        if len(images) == 0:\n",
        "            print(f\"No valid images found in folder {folder}, skipping.\")\n",
        "            continue\n",
        "\n",
        "        train_images, test_images = train_test_split(images, test_size=test_size, random_state=42)\n",
        "\n",
        "        os.makedirs(os.path.join(train_dir, folder), exist_ok=True)\n",
        "        os.makedirs(os.path.join(test_dir, folder), exist_ok=True)\n",
        "\n",
        "        for image in train_images:\n",
        "            shutil.copy(image, os.path.join(train_dir, folder, os.path.basename(image)))\n",
        "        for image in test_images:\n",
        "            shutil.copy(image, os.path.join(test_dir, folder, os.path.basename(image)))\n",
        "\n",
        "    print(\"Data organized into train and test sets.\")\n",
        "\n",
        "output_dir = '/root/.cache/kagglehub/datasets/gti-upm/leapgestrecog/split'\n",
        "organize_data(dataset_path, output_dir)\n"
      ]
    },
    {
      "cell_type": "code",
      "execution_count": 20,
      "metadata": {
        "colab": {
          "base_uri": "https://localhost:8080/"
        },
        "id": "z39qDKQxJlJO",
        "outputId": "91c9955e-6398-4ead-c5ff-305c0bbf0584"
      },
      "outputs": [
        {
          "name": "stdout",
          "output_type": "stream",
          "text": [
            "Contents of folder 09: ['07_ok', '01_palm', '06_index', '08_palm_moved', '03_fist', '02_l', '09_c', '10_down', '04_fist_moved', '05_thumb']\n",
            "Checking subfolder: /root/.cache/kagglehub/datasets/gti-upm/leapgestrecog/versions/1/leapGestRecog/09/07_ok\n",
            "Checking subfolder: /root/.cache/kagglehub/datasets/gti-upm/leapgestrecog/versions/1/leapGestRecog/09/01_palm\n",
            "Checking subfolder: /root/.cache/kagglehub/datasets/gti-upm/leapgestrecog/versions/1/leapGestRecog/09/06_index\n",
            "Checking subfolder: /root/.cache/kagglehub/datasets/gti-upm/leapgestrecog/versions/1/leapGestRecog/09/08_palm_moved\n",
            "Checking subfolder: /root/.cache/kagglehub/datasets/gti-upm/leapgestrecog/versions/1/leapGestRecog/09/03_fist\n",
            "Checking subfolder: /root/.cache/kagglehub/datasets/gti-upm/leapgestrecog/versions/1/leapGestRecog/09/02_l\n",
            "Checking subfolder: /root/.cache/kagglehub/datasets/gti-upm/leapgestrecog/versions/1/leapGestRecog/09/09_c\n",
            "Checking subfolder: /root/.cache/kagglehub/datasets/gti-upm/leapgestrecog/versions/1/leapGestRecog/09/10_down\n",
            "Checking subfolder: /root/.cache/kagglehub/datasets/gti-upm/leapgestrecog/versions/1/leapGestRecog/09/04_fist_moved\n",
            "Checking subfolder: /root/.cache/kagglehub/datasets/gti-upm/leapgestrecog/versions/1/leapGestRecog/09/05_thumb\n",
            "Contents of folder 06: ['07_ok', '01_palm', '06_index', '08_palm_moved', '03_fist', '02_l', '09_c', '10_down', '04_fist_moved', '05_thumb']\n",
            "Checking subfolder: /root/.cache/kagglehub/datasets/gti-upm/leapgestrecog/versions/1/leapGestRecog/06/07_ok\n",
            "Checking subfolder: /root/.cache/kagglehub/datasets/gti-upm/leapgestrecog/versions/1/leapGestRecog/06/01_palm\n",
            "Checking subfolder: /root/.cache/kagglehub/datasets/gti-upm/leapgestrecog/versions/1/leapGestRecog/06/06_index\n",
            "Checking subfolder: /root/.cache/kagglehub/datasets/gti-upm/leapgestrecog/versions/1/leapGestRecog/06/08_palm_moved\n",
            "Checking subfolder: /root/.cache/kagglehub/datasets/gti-upm/leapgestrecog/versions/1/leapGestRecog/06/03_fist\n",
            "Checking subfolder: /root/.cache/kagglehub/datasets/gti-upm/leapgestrecog/versions/1/leapGestRecog/06/02_l\n",
            "Checking subfolder: /root/.cache/kagglehub/datasets/gti-upm/leapgestrecog/versions/1/leapGestRecog/06/09_c\n",
            "Checking subfolder: /root/.cache/kagglehub/datasets/gti-upm/leapgestrecog/versions/1/leapGestRecog/06/10_down\n",
            "Checking subfolder: /root/.cache/kagglehub/datasets/gti-upm/leapgestrecog/versions/1/leapGestRecog/06/04_fist_moved\n",
            "Checking subfolder: /root/.cache/kagglehub/datasets/gti-upm/leapgestrecog/versions/1/leapGestRecog/06/05_thumb\n",
            "Contents of folder 01: ['07_ok', '01_palm', '06_index', '08_palm_moved', '03_fist', '02_l', '09_c', '10_down', '04_fist_moved', '05_thumb']\n",
            "Checking subfolder: /root/.cache/kagglehub/datasets/gti-upm/leapgestrecog/versions/1/leapGestRecog/01/07_ok\n",
            "Checking subfolder: /root/.cache/kagglehub/datasets/gti-upm/leapgestrecog/versions/1/leapGestRecog/01/01_palm\n",
            "Checking subfolder: /root/.cache/kagglehub/datasets/gti-upm/leapgestrecog/versions/1/leapGestRecog/01/06_index\n",
            "Checking subfolder: /root/.cache/kagglehub/datasets/gti-upm/leapgestrecog/versions/1/leapGestRecog/01/08_palm_moved\n",
            "Checking subfolder: /root/.cache/kagglehub/datasets/gti-upm/leapgestrecog/versions/1/leapGestRecog/01/03_fist\n",
            "Checking subfolder: /root/.cache/kagglehub/datasets/gti-upm/leapgestrecog/versions/1/leapGestRecog/01/02_l\n",
            "Checking subfolder: /root/.cache/kagglehub/datasets/gti-upm/leapgestrecog/versions/1/leapGestRecog/01/09_c\n",
            "Checking subfolder: /root/.cache/kagglehub/datasets/gti-upm/leapgestrecog/versions/1/leapGestRecog/01/10_down\n",
            "Checking subfolder: /root/.cache/kagglehub/datasets/gti-upm/leapgestrecog/versions/1/leapGestRecog/01/04_fist_moved\n",
            "Checking subfolder: /root/.cache/kagglehub/datasets/gti-upm/leapgestrecog/versions/1/leapGestRecog/01/05_thumb\n",
            "Contents of folder 00: ['07_ok', '01_palm', '06_index', '08_palm_moved', '03_fist', '02_l', '09_c', '10_down', '04_fist_moved', '05_thumb']\n",
            "Checking subfolder: /root/.cache/kagglehub/datasets/gti-upm/leapgestrecog/versions/1/leapGestRecog/00/07_ok\n",
            "Checking subfolder: /root/.cache/kagglehub/datasets/gti-upm/leapgestrecog/versions/1/leapGestRecog/00/01_palm\n",
            "Checking subfolder: /root/.cache/kagglehub/datasets/gti-upm/leapgestrecog/versions/1/leapGestRecog/00/06_index\n",
            "Checking subfolder: /root/.cache/kagglehub/datasets/gti-upm/leapgestrecog/versions/1/leapGestRecog/00/08_palm_moved\n",
            "Checking subfolder: /root/.cache/kagglehub/datasets/gti-upm/leapgestrecog/versions/1/leapGestRecog/00/03_fist\n",
            "Checking subfolder: /root/.cache/kagglehub/datasets/gti-upm/leapgestrecog/versions/1/leapGestRecog/00/02_l\n",
            "Checking subfolder: /root/.cache/kagglehub/datasets/gti-upm/leapgestrecog/versions/1/leapGestRecog/00/09_c\n",
            "Checking subfolder: /root/.cache/kagglehub/datasets/gti-upm/leapgestrecog/versions/1/leapGestRecog/00/10_down\n",
            "Checking subfolder: /root/.cache/kagglehub/datasets/gti-upm/leapgestrecog/versions/1/leapGestRecog/00/04_fist_moved\n",
            "Checking subfolder: /root/.cache/kagglehub/datasets/gti-upm/leapgestrecog/versions/1/leapGestRecog/00/05_thumb\n",
            "Contents of folder 03: ['07_ok', '01_palm', '06_index', '08_palm_moved', '03_fist', '02_l', '09_c', '10_down', '04_fist_moved', '05_thumb']\n",
            "Checking subfolder: /root/.cache/kagglehub/datasets/gti-upm/leapgestrecog/versions/1/leapGestRecog/03/07_ok\n",
            "Checking subfolder: /root/.cache/kagglehub/datasets/gti-upm/leapgestrecog/versions/1/leapGestRecog/03/01_palm\n",
            "Checking subfolder: /root/.cache/kagglehub/datasets/gti-upm/leapgestrecog/versions/1/leapGestRecog/03/06_index\n",
            "Checking subfolder: /root/.cache/kagglehub/datasets/gti-upm/leapgestrecog/versions/1/leapGestRecog/03/08_palm_moved\n",
            "Checking subfolder: /root/.cache/kagglehub/datasets/gti-upm/leapgestrecog/versions/1/leapGestRecog/03/03_fist\n",
            "Checking subfolder: /root/.cache/kagglehub/datasets/gti-upm/leapgestrecog/versions/1/leapGestRecog/03/02_l\n",
            "Checking subfolder: /root/.cache/kagglehub/datasets/gti-upm/leapgestrecog/versions/1/leapGestRecog/03/09_c\n",
            "Checking subfolder: /root/.cache/kagglehub/datasets/gti-upm/leapgestrecog/versions/1/leapGestRecog/03/10_down\n",
            "Checking subfolder: /root/.cache/kagglehub/datasets/gti-upm/leapgestrecog/versions/1/leapGestRecog/03/04_fist_moved\n",
            "Checking subfolder: /root/.cache/kagglehub/datasets/gti-upm/leapgestrecog/versions/1/leapGestRecog/03/05_thumb\n",
            "Contents of folder 02: ['07_ok', '01_palm', '06_index', '08_palm_moved', '03_fist', '02_l', '09_c', '10_down', '04_fist_moved', '05_thumb']\n",
            "Checking subfolder: /root/.cache/kagglehub/datasets/gti-upm/leapgestrecog/versions/1/leapGestRecog/02/07_ok\n",
            "Checking subfolder: /root/.cache/kagglehub/datasets/gti-upm/leapgestrecog/versions/1/leapGestRecog/02/01_palm\n",
            "Checking subfolder: /root/.cache/kagglehub/datasets/gti-upm/leapgestrecog/versions/1/leapGestRecog/02/06_index\n",
            "Checking subfolder: /root/.cache/kagglehub/datasets/gti-upm/leapgestrecog/versions/1/leapGestRecog/02/08_palm_moved\n",
            "Checking subfolder: /root/.cache/kagglehub/datasets/gti-upm/leapgestrecog/versions/1/leapGestRecog/02/03_fist\n",
            "Checking subfolder: /root/.cache/kagglehub/datasets/gti-upm/leapgestrecog/versions/1/leapGestRecog/02/02_l\n",
            "Checking subfolder: /root/.cache/kagglehub/datasets/gti-upm/leapgestrecog/versions/1/leapGestRecog/02/09_c\n",
            "Checking subfolder: /root/.cache/kagglehub/datasets/gti-upm/leapgestrecog/versions/1/leapGestRecog/02/10_down\n",
            "Checking subfolder: /root/.cache/kagglehub/datasets/gti-upm/leapgestrecog/versions/1/leapGestRecog/02/04_fist_moved\n",
            "Checking subfolder: /root/.cache/kagglehub/datasets/gti-upm/leapgestrecog/versions/1/leapGestRecog/02/05_thumb\n",
            "Contents of folder 04: ['07_ok', '01_palm', '06_index', '08_palm_moved', '03_fist', '02_l', '09_c', '10_down', '04_fist_moved', '05_thumb']\n",
            "Checking subfolder: /root/.cache/kagglehub/datasets/gti-upm/leapgestrecog/versions/1/leapGestRecog/04/07_ok\n",
            "Checking subfolder: /root/.cache/kagglehub/datasets/gti-upm/leapgestrecog/versions/1/leapGestRecog/04/01_palm\n",
            "Checking subfolder: /root/.cache/kagglehub/datasets/gti-upm/leapgestrecog/versions/1/leapGestRecog/04/06_index\n",
            "Checking subfolder: /root/.cache/kagglehub/datasets/gti-upm/leapgestrecog/versions/1/leapGestRecog/04/08_palm_moved\n",
            "Checking subfolder: /root/.cache/kagglehub/datasets/gti-upm/leapgestrecog/versions/1/leapGestRecog/04/03_fist\n",
            "Checking subfolder: /root/.cache/kagglehub/datasets/gti-upm/leapgestrecog/versions/1/leapGestRecog/04/02_l\n",
            "Checking subfolder: /root/.cache/kagglehub/datasets/gti-upm/leapgestrecog/versions/1/leapGestRecog/04/09_c\n",
            "Checking subfolder: /root/.cache/kagglehub/datasets/gti-upm/leapgestrecog/versions/1/leapGestRecog/04/10_down\n",
            "Checking subfolder: /root/.cache/kagglehub/datasets/gti-upm/leapgestrecog/versions/1/leapGestRecog/04/04_fist_moved\n",
            "Checking subfolder: /root/.cache/kagglehub/datasets/gti-upm/leapgestrecog/versions/1/leapGestRecog/04/05_thumb\n",
            "Contents of folder 05: ['07_ok', '01_palm', '06_index', '08_palm_moved', '03_fist', '02_l', '09_c', '10_down', '04_fist_moved', '05_thumb']\n",
            "Checking subfolder: /root/.cache/kagglehub/datasets/gti-upm/leapgestrecog/versions/1/leapGestRecog/05/07_ok\n",
            "Checking subfolder: /root/.cache/kagglehub/datasets/gti-upm/leapgestrecog/versions/1/leapGestRecog/05/01_palm\n",
            "Checking subfolder: /root/.cache/kagglehub/datasets/gti-upm/leapgestrecog/versions/1/leapGestRecog/05/06_index\n",
            "Checking subfolder: /root/.cache/kagglehub/datasets/gti-upm/leapgestrecog/versions/1/leapGestRecog/05/08_palm_moved\n",
            "Checking subfolder: /root/.cache/kagglehub/datasets/gti-upm/leapgestrecog/versions/1/leapGestRecog/05/03_fist\n",
            "Checking subfolder: /root/.cache/kagglehub/datasets/gti-upm/leapgestrecog/versions/1/leapGestRecog/05/02_l\n",
            "Checking subfolder: /root/.cache/kagglehub/datasets/gti-upm/leapgestrecog/versions/1/leapGestRecog/05/09_c\n",
            "Checking subfolder: /root/.cache/kagglehub/datasets/gti-upm/leapgestrecog/versions/1/leapGestRecog/05/10_down\n",
            "Checking subfolder: /root/.cache/kagglehub/datasets/gti-upm/leapgestrecog/versions/1/leapGestRecog/05/04_fist_moved\n",
            "Checking subfolder: /root/.cache/kagglehub/datasets/gti-upm/leapgestrecog/versions/1/leapGestRecog/05/05_thumb\n",
            "Contents of folder 08: ['07_ok', '01_palm', '06_index', '08_palm_moved', '03_fist', '02_l', '09_c', '10_down', '04_fist_moved', '05_thumb']\n",
            "Checking subfolder: /root/.cache/kagglehub/datasets/gti-upm/leapgestrecog/versions/1/leapGestRecog/08/07_ok\n",
            "Checking subfolder: /root/.cache/kagglehub/datasets/gti-upm/leapgestrecog/versions/1/leapGestRecog/08/01_palm\n",
            "Checking subfolder: /root/.cache/kagglehub/datasets/gti-upm/leapgestrecog/versions/1/leapGestRecog/08/06_index\n",
            "Checking subfolder: /root/.cache/kagglehub/datasets/gti-upm/leapgestrecog/versions/1/leapGestRecog/08/08_palm_moved\n",
            "Checking subfolder: /root/.cache/kagglehub/datasets/gti-upm/leapgestrecog/versions/1/leapGestRecog/08/03_fist\n",
            "Checking subfolder: /root/.cache/kagglehub/datasets/gti-upm/leapgestrecog/versions/1/leapGestRecog/08/02_l\n",
            "Checking subfolder: /root/.cache/kagglehub/datasets/gti-upm/leapgestrecog/versions/1/leapGestRecog/08/09_c\n",
            "Checking subfolder: /root/.cache/kagglehub/datasets/gti-upm/leapgestrecog/versions/1/leapGestRecog/08/10_down\n",
            "Checking subfolder: /root/.cache/kagglehub/datasets/gti-upm/leapgestrecog/versions/1/leapGestRecog/08/04_fist_moved\n",
            "Checking subfolder: /root/.cache/kagglehub/datasets/gti-upm/leapgestrecog/versions/1/leapGestRecog/08/05_thumb\n",
            "Contents of folder 07: ['07_ok', '01_palm', '06_index', '08_palm_moved', '03_fist', '02_l', '09_c', '10_down', '04_fist_moved', '05_thumb']\n",
            "Checking subfolder: /root/.cache/kagglehub/datasets/gti-upm/leapgestrecog/versions/1/leapGestRecog/07/07_ok\n",
            "Checking subfolder: /root/.cache/kagglehub/datasets/gti-upm/leapgestrecog/versions/1/leapGestRecog/07/01_palm\n",
            "Checking subfolder: /root/.cache/kagglehub/datasets/gti-upm/leapgestrecog/versions/1/leapGestRecog/07/06_index\n",
            "Checking subfolder: /root/.cache/kagglehub/datasets/gti-upm/leapgestrecog/versions/1/leapGestRecog/07/08_palm_moved\n",
            "Checking subfolder: /root/.cache/kagglehub/datasets/gti-upm/leapgestrecog/versions/1/leapGestRecog/07/03_fist\n",
            "Checking subfolder: /root/.cache/kagglehub/datasets/gti-upm/leapgestrecog/versions/1/leapGestRecog/07/02_l\n",
            "Checking subfolder: /root/.cache/kagglehub/datasets/gti-upm/leapgestrecog/versions/1/leapGestRecog/07/09_c\n",
            "Checking subfolder: /root/.cache/kagglehub/datasets/gti-upm/leapgestrecog/versions/1/leapGestRecog/07/10_down\n",
            "Checking subfolder: /root/.cache/kagglehub/datasets/gti-upm/leapgestrecog/versions/1/leapGestRecog/07/04_fist_moved\n",
            "Checking subfolder: /root/.cache/kagglehub/datasets/gti-upm/leapgestrecog/versions/1/leapGestRecog/07/05_thumb\n",
            "Data organized into train and test sets.\n"
          ]
        }
      ],
      "source": [
        "import shutil\n",
        "from sklearn.model_selection import train_test_split\n",
        "import os\n",
        "\n",
        "def organize_data(dataset_path, output_dir, test_size=0.2):\n",
        "    if not os.path.exists(output_dir):\n",
        "        os.makedirs(output_dir)\n",
        "\n",
        "    train_dir = os.path.join(output_dir, 'train')\n",
        "    test_dir = os.path.join(output_dir, 'test')\n",
        "    os.makedirs(train_dir, exist_ok=True)\n",
        "    os.makedirs(test_dir, exist_ok=True)\n",
        "\n",
        "    gesture_folders = os.listdir(dataset_path)\n",
        "\n",
        "    image_extensions = ['.jpg', '.jpeg', '.png', '.bmp', '.gif']\n",
        "\n",
        "    for folder in gesture_folders:\n",
        "        folder_path = os.path.join(dataset_path, folder)\n",
        "        if not os.path.isdir(folder_path):  \n",
        "            continue\n",
        "\n",
        "        subfolders = os.listdir(folder_path)\n",
        "        print(f\"Contents of folder {folder}: {subfolders}\")\n",
        "\n",
        "        images = []\n",
        "        for subfolder in subfolders:\n",
        "            subfolder_path = os.path.join(folder_path, subfolder)\n",
        "            if os.path.isdir(subfolder_path):\n",
        "                print(f\"Checking subfolder: {subfolder_path}\")\n",
        "                valid_images = [os.path.join(subfolder_path, image)\n",
        "                                for image in os.listdir(subfolder_path)\n",
        "                                if os.path.isfile(os.path.join(subfolder_path, image)) and\n",
        "                                any(image.lower().endswith(ext) for ext in image_extensions)]\n",
        "                images += valid_images\n",
        "\n",
        "        if len(images) == 0: \n",
        "            print(f\"No valid images found in folder {folder}, skipping.\")\n",
        "            continue\n",
        "\n",
        "        train_images, test_images = train_test_split(images, test_size=test_size, random_state=42)\n",
        "\n",
        "        os.makedirs(os.path.join(train_dir, folder), exist_ok=True)\n",
        "        os.makedirs(os.path.join(test_dir, folder), exist_ok=True)\n",
        "\n",
        "        for image in train_images:\n",
        "            shutil.copy(image, os.path.join(train_dir, folder, os.path.basename(image)))\n",
        "        for image in test_images:\n",
        "            shutil.copy(image, os.path.join(test_dir, folder, os.path.basename(image)))\n",
        "\n",
        "    print(\"Data organized into train and test sets.\")\n",
        "\n",
        "output_dir = '/root/.cache/kagglehub/datasets/gti-upm/leapgestrecog/split'\n",
        "organize_data(dataset_path, output_dir)\n"
      ]
    },
    {
      "cell_type": "code",
      "execution_count": 21,
      "metadata": {
        "colab": {
          "base_uri": "https://localhost:8080/"
        },
        "id": "eCM_JKZ5KJk2",
        "outputId": "59febd1c-1996-4443-fa88-418e29a72ba4"
      },
      "outputs": [
        {
          "name": "stdout",
          "output_type": "stream",
          "text": [
            "Found 16000 images belonging to 10 classes.\n",
            "Found 4000 images belonging to 10 classes.\n"
          ]
        }
      ],
      "source": [
        "import os\n",
        "import tensorflow as tf\n",
        "from tensorflow.keras.preprocessing.image import ImageDataGenerator\n",
        "\n",
        "train_dir = '/root/.cache/kagglehub/datasets/gti-upm/leapgestrecog/split/train'\n",
        "test_dir = '/root/.cache/kagglehub/datasets/gti-upm/leapgestrecog/split/test'\n",
        "\n",
        "train_datagen = ImageDataGenerator(\n",
        "    rescale=1./255, \n",
        "    rotation_range=20,\n",
        "    width_shift_range=0.2,\n",
        "    height_shift_range=0.2,\n",
        "    shear_range=0.2,\n",
        "    zoom_range=0.2,\n",
        "    horizontal_flip=True,\n",
        "    fill_mode='nearest'\n",
        ")\n",
        "\n",
        "test_datagen = ImageDataGenerator(rescale=1./255)\n",
        "\n",
        "train_generator = train_datagen.flow_from_directory(\n",
        "    train_dir,\n",
        "    target_size=(224, 224),  \n",
        "    batch_size=32,\n",
        "    class_mode='categorical',  \n",
        ")\n",
        "\n",
        "test_generator = test_datagen.flow_from_directory(\n",
        "    test_dir,\n",
        "    target_size=(224, 224),  \n",
        "    batch_size=32,\n",
        "    class_mode='categorical',  \n",
        "    shuffle=False\n",
        ")\n"
      ]
    },
    {
      "cell_type": "code",
      "execution_count": 23,
      "metadata": {
        "colab": {
          "base_uri": "https://localhost:8080/"
        },
        "id": "RqrM_5X3KQVI",
        "outputId": "0602d210-0f19-45a1-d32d-69eae6a6211c"
      },
      "outputs": [
        {
          "name": "stderr",
          "output_type": "stream",
          "text": [
            "/usr/local/lib/python3.11/dist-packages/keras/src/layers/convolutional/base_conv.py:107: UserWarning: Do not pass an `input_shape`/`input_dim` argument to a layer. When using Sequential models, prefer using an `Input(shape)` object as the first layer in the model instead.\n",
            "  super().__init__(activity_regularizer=activity_regularizer, **kwargs)\n"
          ]
        }
      ],
      "source": [
        "from tensorflow.keras.models import Sequential\n",
        "from tensorflow.keras.layers import Conv2D, MaxPooling2D, Flatten, Dense, Dropout\n",
        "from tensorflow.keras.optimizers import Adam\n",
        "\n",
        "model = Sequential([\n",
        "    Conv2D(32, (3, 3), activation='relu', input_shape=(224, 224, 3)),\n",
        "    MaxPooling2D(pool_size=(2, 2)),\n",
        "\n",
        "    Conv2D(64, (3, 3), activation='relu'),\n",
        "    MaxPooling2D(pool_size=(2, 2)),\n",
        "\n",
        "    Conv2D(128, (3, 3), activation='relu'),\n",
        "    MaxPooling2D(pool_size=(2, 2)),\n",
        "\n",
        "    Flatten(),\n",
        "\n",
        "    Dense(128, activation='relu'),\n",
        "    Dropout(0.5),\n",
        "    Dense(10, activation='softmax')  \n",
        "])\n",
        "\n",
        "model.compile(optimizer=Adam(), loss='categorical_crossentropy', metrics=['accuracy'])\n"
      ]
    },
    {
      "cell_type": "code",
      "execution_count": 24,
      "metadata": {
        "colab": {
          "base_uri": "https://localhost:8080/"
        },
        "id": "eBsXqB-UKW21",
        "outputId": "44c21869-5c8c-4f69-c381-7e8ad290aa75"
      },
      "outputs": [
        {
          "name": "stdout",
          "output_type": "stream",
          "text": [
            "Epoch 1/10\n"
          ]
        },
        {
          "name": "stderr",
          "output_type": "stream",
          "text": [
            "/usr/local/lib/python3.11/dist-packages/keras/src/trainers/data_adapters/py_dataset_adapter.py:122: UserWarning: Your `PyDataset` class should call `super().__init__(**kwargs)` in its constructor. `**kwargs` can include `workers`, `use_multiprocessing`, `max_queue_size`. Do not pass these arguments to `fit()`, as they will be ignored.\n",
            "  self._warn_if_super_not_called()\n"
          ]
        },
        {
          "name": "stdout",
          "output_type": "stream",
          "text": [
            "\u001b[1m500/500\u001b[0m \u001b[32m━━━━━━━━━━━━━━━━━━━━\u001b[0m\u001b[37m\u001b[0m \u001b[1m227s\u001b[0m 429ms/step - accuracy: 0.1649 - loss: 2.2019 - val_accuracy: 0.6090 - val_loss: 1.2762\n",
            "Epoch 2/10\n"
          ]
        },
        {
          "name": "stderr",
          "output_type": "stream",
          "text": [
            "/usr/lib/python3.11/contextlib.py:158: UserWarning: Your input ran out of data; interrupting training. Make sure that your dataset or generator can generate at least `steps_per_epoch * epochs` batches. You may need to use the `.repeat()` function when building your dataset.\n",
            "  self.gen.throw(typ, value, traceback)\n"
          ]
        },
        {
          "name": "stdout",
          "output_type": "stream",
          "text": [
            "\r\u001b[1m500/500\u001b[0m \u001b[32m━━━━━━━━━━━━━━━━━━━━\u001b[0m\u001b[37m\u001b[0m \u001b[1m9s\u001b[0m 18ms/step - accuracy: 0.0000e+00 - loss: 0.0000e+00\n",
            "Epoch 3/10\n",
            "\u001b[1m500/500\u001b[0m \u001b[32m━━━━━━━━━━━━━━━━━━━━\u001b[0m\u001b[37m\u001b[0m \u001b[1m245s\u001b[0m 430ms/step - accuracy: 0.4035 - loss: 1.5925 - val_accuracy: 0.7010 - val_loss: 0.8715\n",
            "Epoch 4/10\n",
            "\u001b[1m500/500\u001b[0m \u001b[32m━━━━━━━━━━━━━━━━━━━━\u001b[0m\u001b[37m\u001b[0m \u001b[1m0s\u001b[0m 21us/step - accuracy: 0.0000e+00 - loss: 0.0000e+00\n",
            "Epoch 5/10\n",
            "\u001b[1m500/500\u001b[0m \u001b[32m━━━━━━━━━━━━━━━━━━━━\u001b[0m\u001b[37m\u001b[0m \u001b[1m221s\u001b[0m 436ms/step - accuracy: 0.4916 - loss: 1.3385 - val_accuracy: 0.7623 - val_loss: 0.6734\n",
            "Epoch 6/10\n",
            "\u001b[1m500/500\u001b[0m \u001b[32m━━━━━━━━━━━━━━━━━━━━\u001b[0m\u001b[37m\u001b[0m \u001b[1m0s\u001b[0m 556us/step - accuracy: 0.0000e+00 - loss: 0.0000e+00\n",
            "Epoch 7/10\n",
            "\u001b[1m500/500\u001b[0m \u001b[32m━━━━━━━━━━━━━━━━━━━━\u001b[0m\u001b[37m\u001b[0m \u001b[1m258s\u001b[0m 430ms/step - accuracy: 0.5344 - loss: 1.2185 - val_accuracy: 0.7430 - val_loss: 0.6688\n",
            "Epoch 8/10\n",
            "\u001b[1m500/500\u001b[0m \u001b[32m━━━━━━━━━━━━━━━━━━━━\u001b[0m\u001b[37m\u001b[0m \u001b[1m1s\u001b[0m 1ms/step - accuracy: 0.0000e+00 - loss: 0.0000e+00\n",
            "Epoch 9/10\n",
            "\u001b[1m500/500\u001b[0m \u001b[32m━━━━━━━━━━━━━━━━━━━━\u001b[0m\u001b[37m\u001b[0m \u001b[1m219s\u001b[0m 431ms/step - accuracy: 0.5901 - loss: 1.0734 - val_accuracy: 0.8165 - val_loss: 0.5061\n",
            "Epoch 10/10\n",
            "\u001b[1m500/500\u001b[0m \u001b[32m━━━━━━━━━━━━━━━━━━━━\u001b[0m\u001b[37m\u001b[0m \u001b[1m0s\u001b[0m 28us/step - accuracy: 0.0000e+00 - loss: 0.0000e+00\n"
          ]
        }
      ],
      "source": [
        "history = model.fit(\n",
        "    train_generator,\n",
        "    steps_per_epoch=train_generator.samples // train_generator.batch_size,\n",
        "    epochs=10,  \n",
        "    validation_data=test_generator,\n",
        "    validation_steps=test_generator.samples // test_generator.batch_size\n",
        ")\n"
      ]
    },
    {
      "cell_type": "code",
      "execution_count": 27,
      "metadata": {
        "colab": {
          "base_uri": "https://localhost:8080/"
        },
        "id": "0SPD6eGyPVgp",
        "outputId": "252b8fec-439a-43d0-e190-29595369d52c"
      },
      "outputs": [
        {
          "name": "stdout",
          "output_type": "stream",
          "text": [
            "Epoch 1/10\n",
            "\u001b[1m500/500\u001b[0m \u001b[32m━━━━━━━━━━━━━━━━━━━━\u001b[0m\u001b[37m\u001b[0m \u001b[1m219s\u001b[0m 433ms/step - accuracy: 0.6269 - loss: 0.9687 - val_accuracy: 0.8890 - val_loss: 0.3990\n",
            "Epoch 2/10\n",
            "\u001b[1m500/500\u001b[0m \u001b[32m━━━━━━━━━━━━━━━━━━━━\u001b[0m\u001b[37m\u001b[0m \u001b[1m0s\u001b[0m 23us/step - accuracy: 0.0000e+00 - loss: 0.0000e+00\n",
            "Epoch 3/10\n"
          ]
        },
        {
          "name": "stderr",
          "output_type": "stream",
          "text": [
            "/usr/local/lib/python3.11/dist-packages/keras/src/callbacks/early_stopping.py:155: UserWarning: Early stopping conditioned on metric `val_loss` which is not available. Available metrics are: accuracy,loss\n",
            "  current = self.get_monitor_value(logs)\n"
          ]
        },
        {
          "name": "stdout",
          "output_type": "stream",
          "text": [
            "\u001b[1m500/500\u001b[0m \u001b[32m━━━━━━━━━━━━━━━━━━━━\u001b[0m\u001b[37m\u001b[0m \u001b[1m260s\u001b[0m 430ms/step - accuracy: 0.6533 - loss: 0.9003 - val_accuracy: 0.9358 - val_loss: 0.2941\n",
            "Epoch 4/10\n",
            "\u001b[1m500/500\u001b[0m \u001b[32m━━━━━━━━━━━━━━━━━━━━\u001b[0m\u001b[37m\u001b[0m \u001b[1m1s\u001b[0m 1ms/step - accuracy: 0.0000e+00 - loss: 0.0000e+00\n",
            "Epoch 5/10\n",
            "\u001b[1m500/500\u001b[0m \u001b[32m━━━━━━━━━━━━━━━━━━━━\u001b[0m\u001b[37m\u001b[0m \u001b[1m219s\u001b[0m 430ms/step - accuracy: 0.6910 - loss: 0.8008 - val_accuracy: 0.9380 - val_loss: 0.2187\n",
            "Epoch 6/10\n",
            "\u001b[1m500/500\u001b[0m \u001b[32m━━━━━━━━━━━━━━━━━━━━\u001b[0m\u001b[37m\u001b[0m \u001b[1m0s\u001b[0m 23us/step - accuracy: 0.0000e+00 - loss: 0.0000e+00\n",
            "Epoch 7/10\n",
            "\u001b[1m500/500\u001b[0m \u001b[32m━━━━━━━━━━━━━━━━━━━━\u001b[0m\u001b[37m\u001b[0m \u001b[1m223s\u001b[0m 440ms/step - accuracy: 0.7282 - loss: 0.7195 - val_accuracy: 0.9600 - val_loss: 0.1469\n",
            "Epoch 8/10\n",
            "\u001b[1m500/500\u001b[0m \u001b[32m━━━━━━━━━━━━━━━━━━━━\u001b[0m\u001b[37m\u001b[0m \u001b[1m9s\u001b[0m 19ms/step - accuracy: 0.0000e+00 - loss: 0.0000e+00\n",
            "Epoch 9/10\n",
            "\u001b[1m500/500\u001b[0m \u001b[32m━━━━━━━━━━━━━━━━━━━━\u001b[0m\u001b[37m\u001b[0m \u001b[1m219s\u001b[0m 430ms/step - accuracy: 0.7590 - loss: 0.6475 - val_accuracy: 0.9685 - val_loss: 0.1274\n",
            "Epoch 10/10\n",
            "\u001b[1m500/500\u001b[0m \u001b[32m━━━━━━━━━━━━━━━━━━━━\u001b[0m\u001b[37m\u001b[0m \u001b[1m0s\u001b[0m 23us/step - accuracy: 0.0000e+00 - loss: 0.0000e+00\n"
          ]
        }
      ],
      "source": [
        "from tensorflow.keras.callbacks import EarlyStopping\n",
        "\n",
        "early_stopping = EarlyStopping(monitor='val_loss', patience=5, restore_best_weights=True)\n",
        "\n",
        "history = model.fit(\n",
        "    train_generator,\n",
        "    steps_per_epoch=train_generator.samples // train_generator.batch_size,\n",
        "    epochs=10,  \n",
        "    validation_data=test_generator,\n",
        "    validation_steps=test_generator.samples // test_generator.batch_size,\n",
        "    callbacks=[early_stopping]  \n",
        ")\n"
      ]
    },
    {
      "cell_type": "code",
      "execution_count": 28,
      "metadata": {
        "colab": {
          "base_uri": "https://localhost:8080/"
        },
        "id": "nDVIzC10SWeI",
        "outputId": "407276a7-73b6-46af-e42b-e436968f2ad4"
      },
      "outputs": [
        {
          "name": "stdout",
          "output_type": "stream",
          "text": [
            "\u001b[1m125/125\u001b[0m \u001b[32m━━━━━━━━━━━━━━━━━━━━\u001b[0m\u001b[37m\u001b[0m \u001b[1m11s\u001b[0m 87ms/step - accuracy: 0.9707 - loss: 0.1127\n",
            "Test Loss: 0.127393901348114\n",
            "Test Accuracy: 0.968500018119812\n"
          ]
        }
      ],
      "source": [
        "test_loss, test_accuracy = model.evaluate(test_generator, steps=test_generator.samples // test_generator.batch_size)\n",
        "print(f\"Test Loss: {test_loss}\")\n",
        "print(f\"Test Accuracy: {test_accuracy}\")"
      ]
    },
    {
      "cell_type": "code",
      "execution_count": 29,
      "metadata": {
        "colab": {
          "base_uri": "https://localhost:8080/",
          "height": 927
        },
        "id": "XrzUrfw7SsgP",
        "outputId": "274c7104-70bc-4e28-8603-c21e1d4cb226"
      },
      "outputs": [
        {
          "data": {
            "image/png": "[encoded data removed]",
            "text/plain": [
              "<Figure size 640x480 with 1 Axes>"
            ]
          },
          "metadata": {},
          "output_type": "display_data"
        },
        {
          "data": {
            "image/png": "[encoded data removed]",
            "text/plain": [
              "<Figure size 640x480 with 1 Axes>"
            ]
          },
          "metadata": {},
          "output_type": "display_data"
        }
      ],
      "source": [
        "import matplotlib.pyplot as plt\n",
        "\n",
        "plt.plot(history.history['accuracy'])\n",
        "plt.plot(history.history['val_accuracy'])\n",
        "plt.title('Model accuracy')\n",
        "plt.xlabel('Epochs')\n",
        "plt.ylabel('Accuracy')\n",
        "plt.legend(['Train', 'Test'], loc='upper left')\n",
        "plt.show()\n",
        "\n",
        "plt.plot(history.history['loss'])\n",
        "plt.plot(history.history['val_loss'])\n",
        "plt.title('Model loss')\n",
        "plt.xlabel('Epochs')\n",
        "plt.ylabel('Loss')\n",
        "plt.legend(['Train', 'Test'], loc='upper left')\n",
        "plt.show()"
      ]
    },
    {
      "cell_type": "code",
      "execution_count": 31,
      "metadata": {
        "colab": {
          "base_uri": "https://localhost:8080/"
        },
        "id": "SYeS9rFGUDNf",
        "outputId": "6ba6e455-472c-4962-d03c-1d6ad4579e02"
      },
      "outputs": [
        {
          "name": "stdout",
          "output_type": "stream",
          "text": [
            "\u001b[1m1/1\u001b[0m \u001b[32m━━━━━━━━━━━━━━━━━━━━\u001b[0m\u001b[37m\u001b[0m \u001b[1m1s\u001b[0m 853ms/step\n",
            "Predicted Gesture: 01\n"
          ]
        }
      ],
      "source": [
        "from tensorflow.keras.preprocessing import image\n",
        "import numpy as np\n",
        "\n",
        "img_path = '/content/frame_01_04_0004.png' \n",
        "img = image.load_img(img_path, target_size=(224, 224))  \n",
        "img_array = image.img_to_array(img)\n",
        "img_array = np.expand_dims(img_array, axis=0)  \n",
        "\n",
        "img_array = img_array / 255.0\n",
        "\n",
        "predictions = model.predict(img_array)\n",
        "predicted_class = np.argmax(predictions, axis=1)\n",
        "\n",
        "class_names = test_generator.class_indices  \n",
        "predicted_class_name = list(class_names.keys())[predicted_class[0]]\n",
        "print(f\"Predicted Gesture: {predicted_class_name}\")\n"
      ]
    },
    {
      "cell_type": "code",
      "execution_count": 32,
      "metadata": {
        "id": "aViZPgKhUXAb"
      },
      "outputs": [],
      "source": [
        "import cv2\n",
        "import numpy as np\n",
        "\n",
        "cap = cv2.VideoCapture(0)\n",
        "\n",
        "while True:\n",
        "    ret, frame = cap.read()\n",
        "    if not ret:\n",
        "        break\n",
        "\n",
        "    img = cv2.resize(frame, (224, 224))\n",
        "    img_array = np.array(img)\n",
        "    img_array = np.expand_dims(img_array, axis=0)\n",
        "    img_array = img_array / 255.0  \n",
        "\n",
        "    predictions = model.predict(img_array)\n",
        "    predicted_class = np.argmax(predictions, axis=1)\n",
        "    class_names = test_generator.class_indices\n",
        "    predicted_class_name = list(class_names.keys())[predicted_class[0]]\n",
        "\n",
        "    cv2.putText(frame, f\"Gesture: {predicted_class_name}\", (50, 50), cv2.FONT_HERSHEY_SIMPLEX, 1, (0, 255, 0), 2)\n",
        "\n",
        "    cv2.imshow('Hand Gesture Recognition', frame)\n",
        "\n",
        "    if cv2.waitKey(1) & 0xFF == ord('q'):\n",
        "        break\n",
        "\n",
        "cap.release()\n",
        "cv2.destroyAllWindows()\n"
      ]
    },
    {
      "cell_type": "code",
      "execution_count": 34,
      "metadata": {
        "id": "-VImuF0BUbci"
      },
      "outputs": [],
      "source": [
        "model.save('gesture_recognition_model.keras')"
      ]
    }
  ],
  "metadata": {
    "accelerator": "GPU",
    "colab": {
      "gpuType": "T4",
      "provenance": []
    },
    "kernelspec": {
      "display_name": "Python 3",
      "name": "python3"
    },
    "language_info": {
      "name": "python"
    }
  },
  "nbformat": 4,
  "nbformat_minor": 0
}
